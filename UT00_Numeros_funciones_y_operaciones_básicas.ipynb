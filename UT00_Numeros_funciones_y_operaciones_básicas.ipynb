{
  "cells": [
    {
      "cell_type": "markdown",
      "id": "7822699c",
      "metadata": {
        "id": "7822699c"
      },
      "source": [
        "# UT00 — Nivelación en Python y Matemáticas para IA\n",
        "**Módulo:** 5073 · Programación de Inteligencia Artificial · Curso 2025/26  \n",
        "**Profesor:** Carlos Tessier Fernández  \n",
        "**Fecha:** 2025-08-14  \n",
        "\n",
        "> Esta unidad proporciona las bases matemáticas y de programación en Python que necesitaremos en todo el módulo. Lo haremos con ejemplos reales y variados (videojuegos, salud, finanzas, redes sociales...) para que veas la utilidad inmediata de cada concepto en Inteligencia Artificial.\n"
      ]
    },
    {
      "cell_type": "markdown",
      "id": "odnIVbCp-aci",
      "metadata": {
        "id": "odnIVbCp-aci"
      },
      "source": [
        "### La Magia Oculta de las Matemáticas en la Inteligencia Artificial\n",
        "\n",
        "Imagina que la Inteligencia Artificial (IA) es como un superhéroe con habilidades asombrosas: puede reconocer tu cara en el móvil, recomendarte tu próxima serie favorita en Netflix o incluso predecir si mañana va a llover. ¿Cuál es su superpoder secreto? ¡Las **Matemáticas**!. Son como el **lenguaje oculto** que usan las máquinas para pensar, aprender y tomar decisiones. Sin ellas, la IA tal como la conocemos hoy, simplemente no existiría.\n",
        "\n",
        "**¿Por qué son tan importantes las matemáticas para la IA?**\n",
        "\n",
        "1.  **Para entender \"cómo funciona\" de verdad:** Mucha gente usa la IA como una \"caja negra\", sin saber qué pasa dentro. Si entiendes las matemáticas, podrás comprender a un nivel fundamental cómo la IA toma sus decisiones y aprende.\n",
        "2.  **Para mejorarla y crear cosas nuevas:** No solo podrás usar la IA, sino que tendrás la capacidad de **optimizar sus algoritmos** para que funcionen mejor y sentar las bases para nuevas innovaciones.\n",
        "3.  **Para manejar muchísimos datos:** La IA trabaja con cantidades gigantescas de información. Las matemáticas le dan las herramientas para procesar esos **\"macrodatos\" de forma eficiente**.\n",
        "4.  **Para hacerla más \"transparente\":** En campos importantes como la medicina o las finanzas, es crucial saber *por qué* un sistema de IA ha tomado una decisión. Las matemáticas permiten entender y explicar esas decisiones.\n",
        "\n",
        "**Las 4 Grandes Ramas de las Matemáticas en la IA (y qué hacen):**\n",
        "\n",
        "Piensa en estas ramas como las asignaturas clave que la IA \"estudia\" para ser inteligente:\n",
        "\n",
        "1.  **Álgebra Lineal (Las \"Listas y Tablas\" de Números):**\n",
        "    *   **¿Qué es?** Es como el idioma principal de la IA. Nos ayuda a representar datos complejos como **vectores** (listas de números) y **matrices** (tablas de números). Una imagen, por ejemplo, es una matriz gigante de píxeles.\n",
        "    *   **¿Para qué sirve?** Para organizar, transformar y manipular la información en espacios de muchas dimensiones. Técnicas como el **Análisis de Componentes Principales (PCA)**, que se basa en álgebra lineal, ayudan a reducir la cantidad de datos manteniendo lo más importante.\n",
        "\n",
        "\n",
        "      <img src=\"https://i.blogs.es/3a55f1/849485-3001e78a346be043d763f8cbc1ab7cc9/1366_2000.jpg\" alt=\"Reconocimiento facial\" width=\"400\"/>\n",
        "  \n",
        "    *   **Ejemplo cercano: Reconocimiento facial.** Cuando tu móvil te reconoce, tu cara se traduce en matrices de números. El álgebra lineal permite a la IA manipular esas matrices para identificar patrones clave y saber que eres tú . También se usa para la compresión de imágenes.\n",
        "\n",
        "2.  **Probabilidad y Estadística (La \"Lógica de la Incertidumbre\"):**\n",
        "    *   **¿Qué es?** Son las herramientas para **modelar la incertidumbre** y hacer predicciones. Nos ayudan a entender la probabilidad de que algo ocurra y a tomar decisiones con información incompleta.\n",
        "    *   **¿Para qué sirve?** Es el motor principal que permite a la IA **aprender de los datos** y generalizar ese aprendizaje a situaciones nuevas.\n",
        "\n",
        "      <img src=\"https://cdn.computerhoy.com/sites/navi.axelspringer.es/public/media/image/2022/06/entendiendo-enemigo-como-funciona-sistema-recomendaciones-netflix-2743059.jpg?tf=3840x\" alt=\" Recomendaciones de Netflix\" width=\"400\"/>\n",
        "\n",
        "\n",
        "    *   **Ejemplo cercano: Recomendaciones de Netflix.** Cuando Netflix te sugiere una película o serie, está usando modelos estadísticos y probabilidades para predecir lo que te gustará, basándose en tu historial y el de usuarios parecidos . También es clave para la **predicción del tiempo**, donde se usan modelos probabilísticos para predecir la probabilidad de diferentes resultados .\n",
        "\n",
        "3.  **Cálculo (La \"Guía para Mejorar\"):**\n",
        "    *   **¿Qué es?** Principalmente las **derivadas**, que nos dicen la \"pendiente\" de una función, es decir, cómo cambia algo. Piensa en ello como saber hacia dónde es \"cuesta abajo\" o \"cuesta arriba\" en un mapa.\n",
        "    *   **¿Para qué sirve?** Es la **fuerza impulsora detrás de la optimización** en la IA . Permite a los algoritmos **ajustar sus parámetros** para minimizar errores y mejorar su rendimiento. Esto se hace con un método llamado **descenso de gradiente**, que es como un excursionista que busca el punto más bajo de un valle dando pequeños pasos en la dirección más inclinada hacia abajo.\n",
        "\n",
        "      <img src=\"https://tacc.utexas.edu/media/filer_public_thumbnails/filer_public/b1/cb/b1cb63c7-c053-4763-9ecd-33f7a2042d27/weather.jpeg__850.0x607.0_q85_subject_location-530%2C300_subsampling-2.jpg\" alt=\" Predicción del tiempo\" width=\"400\"/>\n",
        "\n",
        "    *   **Ejemplo cercano: Predicción del tiempo.** Los modelos de IA que predicen el tiempo utilizan cálculos (derivadas, ecuaciones) para ajustar sus predicciones constantemente y ser cada vez más precisos, aprendiendo de nuevos datos .\n",
        "\n",
        "4.  **Optimización (El \"Buscador de la Mejor Solución\"):**\n",
        "    *   **¿Qué es?** Es el proceso de encontrar los **mejores parámetros** (llamados \"pesos\") para un modelo de IA. El objetivo es que el modelo cometa los menos errores posibles o sea lo más preciso.\n",
        "    *   **¿Para qué sirve?** Esencial para que la IA \"aprenda\" y mejore con la experiencia. El cálculo es su herramienta principal.\n",
        "\n",
        "**Las Redes Neuronales: El \"Cerebro\" de la IA**\n",
        "\n",
        "Las redes neuronales son como los \"cerebros\" de muchos sistemas de IA actuales. Están inspiradas en cómo funciona nuestro propio cerebro.\n",
        "\n",
        "   <img src=\"https://miro.medium.com/1*sPg-0hha7o3iNPjY4n-vow.jpeg\" alt=\" redes neuronales\" width=\"400\"/>\n",
        "\n",
        "*   Reciben datos (inputs) y los procesan a través de varias capas de \"neuronas\" interconectadas, llamadas **perceptrones**. Cada perceptrón realiza cálculos matemáticos básicos.\n",
        "*   Usan **funciones de activación** para introducir no linealidad, lo que les permite resolver problemas mucho más complejos que una simple relación lineal.\n",
        "*   Y tienen **funciones de pérdida** (o de error) que miden lo \"mal\" que están haciendo su trabajo. El **\"entrenamiento\"** de la red consiste en usar cálculo y optimización para ajustar sus \"pesos\" (esos parámetros que mencionamos antes) y que la función de pérdida sea lo más pequeña posible.\n",
        "\n",
        "**En resumen:** La Inteligencia Artificial no es magia; es **matemática aplicada**. Desde cómo se organizan los datos, cómo se \"aprende\" de ellos, hasta cómo se optimizan los modelos, todo se basa en conceptos matemáticos que muchos de vosotros ya estudiáis en bachillerato. Comprender estas bases no solo es fascinante, sino que te da una **ventaja enorme** para entender y participar en el futuro tecnológico. ¡Las matemáticas son tu pasaporte para el mundo de la IA!"
      ]
    },
    {
      "cell_type": "markdown",
      "id": "3541e5e0",
      "metadata": {
        "id": "3541e5e0"
      },
      "source": [
        "\n",
        "---\n",
        "\n",
        "# Números, funciones y operaciones básicas en Python\n",
        "\n",
        "### Objetivos de aprendizaje\n",
        "\n",
        "* Reconocer los tipos básicos de números (enteros, reales, potencias y raíces).\n",
        "* Manejar operaciones aritméticas en Python con la sintaxis correcta.\n",
        "* Comprender el concepto de función matemática y trasladarlo a funciones en Python.\n",
        "* Representar gráficamente funciones sencillas.\n",
        "\n",
        "---\n",
        "\n",
        "## 1. Introducción a los números\n",
        "\n",
        "En el fascinante mundo del Machine Learning, casi siempre trabajamos con **números reales**. ¿Por qué? Porque los modelos de IA aprenden a partir de **datos numéricos**. Las matemáticas son el **\"lenguaje que define cómo las máquinas procesan, aprenden de y comprenden los datos\"**. Sin una representación numérica, la IA no podría funcionar.\n",
        "\n",
        "Imagina que quieres que un algoritmo de ML prediga el precio de una casa. Necesitará datos como la superficie (un número), el número de habitaciones (otro número), la probabilidad de lluvia (un decimal), etc. Todos estos datos, desde las imágenes hasta el texto, se transforman en números para que las máquinas puedan \"entenderlos\" y analizarlos. Los números reales (ℝ), que incluyen todos los números positivos y negativos, enteros y decimales, son fundamentales en matemáticas y se consideran una de las cinco clases de números principales. Son el resultado de \"cerrar\" los números racionales a los límites, permitiendo así representar un continuo de valores.\n",
        "\n",
        "Los tipos de números más comunes que debemos conocer en Python son:\n",
        "\n",
        "En **Machine Learning** trabajamos casi siempre con **números reales**, porque los modelos aprenden a partir de **datos numéricos**.  \n",
        "Los tipos que debemos conocer en Python son:\n",
        "\n",
        "**Enteros (int)**\n",
        "    *   Sirven para **contar cosas o indicar categorías** con números. Son como los números enteros (ℤ) en matemáticas, que incluyen los números naturales, el cero y los negativos.\n",
        "    *   **Ejemplo:** `cantidad_de_alumnos = 25`, `edad = 16`.\n",
        "    *   En Python, los `int` tienen una característica especial: pueden representar **números arbitrariamente grandes** sin límite fijo, a diferencia de otros lenguajes de programación.\n",
        "\n",
        "*   **Decimales (float)**\n",
        "    *   Son, con diferencia, **los más importantes** en Machine Learning, porque casi todos los cálculos se hacen con decimales. Esto se debe a que la mayoría de los datos con los que trabaja la IA, como pesos en redes neuronales, probabilidades, o medidas continuas, son valores reales.\n",
        "    *   **Ejemplo:** `nota_media = 7.5`, `probabilidad = 0.83`. La probabilidad de un evento, por ejemplo, siempre se expresa como un número real entre 0 y 1.\n",
        "    *   En Python, un `float` suele ser un número de punto flotante de 64 bits (como el `float64` en la librería `NumPy`), diseñado para manejar cálculos con alta precisión y eficiencia.\n",
        "\n",
        "👉 Con **`int`** y **`float`** ya cubrimos el 99% de lo necesario en Machine Learning. Las operaciones matemáticas sobre estos números permiten a los sistemas de IA procesar grandes cantidades de datos de forma eficiente. Por ejemplo, para estandarizar datos (hacer que tengan media cero y desviación estándar uno), se usan operaciones matemáticas sobre números reales.\n",
        "\n",
        "***\n",
        "\n"
      ]
    },
    {
      "cell_type": "code",
      "execution_count": 14,
      "id": "f674d4ad",
      "metadata": {
        "id": "f674d4ad",
        "outputId": "b07aa2e9-cc77-4a5c-a298-72fd6e1f7a6c"
      },
      "outputs": [
        {
          "name": "stdout",
          "output_type": "stream",
          "text": [
            "<class 'int'>\n",
            "<class 'float'>\n"
          ]
        }
      ],
      "source": [
        "x = 20        # entero (int)\n",
        "y = 7.5       # decimal (float)\n",
        "\n",
        "print(type(x))  # <class 'int'>\n",
        "print(type(y))  # <class 'float'>"
      ]
    },
    {
      "cell_type": "markdown",
      "id": "nB47iFIc54D3",
      "metadata": {
        "id": "nB47iFIc54D3"
      },
      "source": [
        "## **ACTIVIDAD**: Tipos de números en Python\n",
        "\n",
        "**Objetivo**: reconocer `int` y `float` y practicar operaciones básicas.\n",
        "\n",
        "* **Nivel básico**\n",
        "\n",
        "  1. Crear variables con un número entero y un número decimal y comprobar su tipo con `type()`.\n",
        "  2. Sumar un entero y un decimal, imprimir el resultado y el tipo de dato.\n",
        "\n",
        "* **Nivel intermedio**\n",
        "  3\\. Calcular el área de un rectángulo (base × altura) usando variables enteras.\n",
        "  4\\. Calcular la nota media de tres asignaturas con decimales.\n",
        "\n",
        "* **Reto**\n",
        "  5\\. ¿Qué ocurre si divides un número muy grande entre otro? ¿Y si elevas un número pequeño a una potencia muy grande?\n"
      ]
    },
    {
      "cell_type": "code",
      "execution_count": null,
      "id": "cXl1M3qL54Oz",
      "metadata": {
        "id": "cXl1M3qL54Oz"
      },
      "outputs": [
        {
          "name": "stdout",
          "output_type": "stream",
          "text": [
            "<class 'int'>\n",
            "<class 'float'>\n",
            "28.0\n",
            "<class 'float'>\n",
            "75\n",
            "6.0\n",
            "5.0139575289268326e+17\n"
          ]
        },
        {
          "ename": "NameError",
          "evalue": "name 'test2' is not defined",
          "output_type": "error",
          "traceback": [
            "\u001b[31m---------------------------------------------------------------------------\u001b[39m",
            "\u001b[31mNameError\u001b[39m                                 Traceback (most recent call last)",
            "\u001b[36mCell\u001b[39m\u001b[36m \u001b[39m\u001b[32mIn[1]\u001b[39m\u001b[32m, line 43\u001b[39m\n\u001b[32m     37\u001b[39m \u001b[38;5;28mprint\u001b[39m(test)\n\u001b[32m     40\u001b[39m \u001b[38;5;66;03m# El numerito ocupa mas de 16GB\u001b[39;00m\n\u001b[32m     41\u001b[39m \u001b[38;5;66;03m# test2 = 2 ** 1789237478123798478911023789487190237892478901209787382078917890237089123079823407983879012780923789487902374987129308784091827349017209\u001b[39;00m\n\u001b[32m---> \u001b[39m\u001b[32m43\u001b[39m \u001b[38;5;28mprint\u001b[39m(\u001b[43mtest2\u001b[49m)\n",
            "\u001b[31mNameError\u001b[39m: name 'test2' is not defined"
          ]
        }
      ],
      "source": [
        "# Ejercicio 1\n",
        "x = 5\n",
        "y = 3.4\n",
        "\n",
        "print(type(x))\n",
        "print(type(y))\n",
        "\n",
        "# Ejercicio 2 \n",
        "\n",
        "x1 = 5\n",
        "y1 = 5.6\n",
        "z1 = x1 * y1\n",
        "\n",
        "print(z1)\n",
        "print(type(z1))\n",
        "\n",
        "# Ejercicio 3\n",
        "\n",
        "base = 5\n",
        "altura = 15\n",
        "\n",
        "area = base * altura\n",
        "\n",
        "print(area)\n",
        "\n",
        "\n",
        "nota1 = 9\n",
        "nota2 = 3.4\n",
        "nota3 = 5.6\n",
        "\n",
        "media = (nota1 + nota2 + nota3) / 3\n",
        "\n",
        "print(media)\n",
        "\n",
        "\n",
        "test = 8974378902347891423241378923498072 / 17898793219871432\n",
        "print(test)\n",
        "\n",
        "\n",
        "# El numerito ocupa mas de 16GB\n",
        "# test2 = 2 ** 1789237478123798478911023789487190237892478901209787382078917890237089123079823407983879012780923789487902374987129308784091827349017209\n",
        "\n",
        "# print(test2)\n",
        "\n",
        "\n"
      ]
    },
    {
      "cell_type": "markdown",
      "id": "001e28af",
      "metadata": {
        "id": "001e28af"
      },
      "source": [
        "\n",
        "## Operadores básicos en Python\n",
        "\n",
        "En Python, los operadores nos permiten realizar las operaciones matemáticas fundamentales, que son la **esencia de cómo la Inteligencia Artificial (IA) y el Machine Learning (ML) manipulan los datos y construyen modelos**. Aunque parezcan simples, son los \"ladrillos\" con los que se construyen los algoritmos más complejos.\n",
        "\n",
        "Estos son los operadores más utilizados, y su papel clave en ML:\n",
        "\n",
        "| Operador | Significado                  | Ejemplo (`Python`) | Resultado |\n",
        "|----------|------------------------------|--------------------|-----------|\n",
        "| `+`      | Suma                         | `3 + 2`            | `5`       |\n",
        "| `-`      | Resta                        | `7 - 5`            | `2`       |\n",
        "| `*`      | Multiplicación               | `4 * 2`            | `8`       |\n",
        "| `/`      | División real (con decimales)| `7 / 2`            | `3.5`     |\n",
        "| `//`     | División entera (sin decimales)| `7 // 2`         | `3`       |\n",
        "| `%`      | Módulo (resto de una división)| `7 % 2`           | `1`       |\n",
        "| `**`     | Potencia                     | `2 ** 3`           | `8`       |\n",
        "\n",
        "***\n",
        "\n",
        "\n",
        "En Machine Learning, los datos se representan a menudo como **vectores** (listas de números) o **matrices** (tablas de números), que en Python manejamos eficientemente con la librería **NumPy**. Las operaciones anteriores se aplican **elemento a elemento** sobre estos vectores y matrices, lo que permite realizar cálculos masivos de forma muy rápida.\n",
        "\n",
        "*   **Sumas y Restas (`+`, `-`)**:\n",
        "    *   Se usan constantemente para **combinar datos** o para **ajustar los parámetros de un modelo** durante el proceso de aprendizaje. Por ejemplo, cuando un algoritmo de IA aprende, modifica sus \"pesos\" (parámetros) sumando o restando pequeños valores, a menudo llamados \"gradientes\".\n",
        "    *   También se emplean para **escalar o normalizar los datos**, restando la media de un conjunto de datos (como la altura media de un grupo de personas).\n",
        "\n",
        "*   **Multiplicaciones (`*`)**:\n",
        "    *   Son esenciales para calcular **combinaciones de datos** y para el ajuste de los pesos de los modelos.\n",
        "    *   En las redes neuronales, la información se propaga a través de las capas multiplicando las entradas por matrices de \"pesos\" aprendidos.\n",
        "    *   También se usan en la **multiplicación escalar** (multiplicar un número por un vector o matriz completa), por ejemplo, para escalar el \"gradiente\" en los algoritmos de optimización como el `descenso de gradiente`.\n",
        "\n",
        "*   **Divisiones (`/`)**:\n",
        "    *   Son fundamentales cuando **normalizamos datos**. Por ejemplo, para escalar un conjunto de números entre 0 y 1, o para realizar la estandarización (hacer que los datos tengan media cero y desviación estándar uno), dividimos los valores por su desviación estándar. Esto es crucial para que todas las características (variables) de los datos tengan la misma importancia y ninguna domine el proceso de aprendizaje.\n",
        "\n",
        "*   **Potencias (`**`)**:\n",
        "    *   Son necesarias en muchas **fórmulas matemáticas** que usan los algoritmos de ML. Las veremos en detalle más adelante. En Python, `np.power` y el operador `**` de NumPy son herramientas muy eficientes para esto.\n",
        "\n",
        "*   **Módulo (`%`) y División Entera (`//`)**:\n",
        "    *   Son menos comunes en las operaciones directas de Machine Learning, pero son muy útiles en la programación general para tareas como comprobar si un número es par o impar, o para cálculos discretos.\n"
      ]
    },
    {
      "cell_type": "code",
      "execution_count": 16,
      "id": "d4995a80",
      "metadata": {
        "id": "d4995a80",
        "outputId": "9a978e9f-cda3-4d03-e74e-6cf70c7cba3b"
      },
      "outputs": [
        {
          "name": "stdout",
          "output_type": "stream",
          "text": [
            "9\n",
            "5\n",
            "14\n",
            "3.5\n",
            "3\n",
            "1\n",
            "49\n"
          ]
        }
      ],
      "source": [
        "a = 7\n",
        "b = 2\n",
        "\n",
        "print(a + b)   # 9\n",
        "print(a - b)   # 5\n",
        "print(a * b)   # 14\n",
        "print(a / b)   # 3.5 (decimal)\n",
        "print(a // b)  # 3   (solo la parte entera)\n",
        "print(a % b)   # 1   (resto de la división)\n",
        "print(a ** b)  # 49  (7²)"
      ]
    },
    {
      "cell_type": "markdown",
      "id": "t5u_1ktN6PFx",
      "metadata": {
        "id": "t5u_1ktN6PFx"
      },
      "source": [
        "## **ACTIVIDAD**: Operadores básicos\n",
        "\n",
        "**Objetivo**: practicar con los operadores aritméticos y comprender su utilidad.\n",
        "\n",
        "* **Nivel básico**\n",
        "\n",
        "  1. Escribir un programa que pida dos números y muestre: suma, resta, multiplicación y división.\n",
        "  2. Usar `%` para comprobar si un número es par o impar.\n",
        "\n",
        "* **Nivel intermedio**\n",
        "  3\\. Calcular cuántos billetes de 20 €, 10 € y 5 € hay que dar para pagar una cantidad exacta (usando `//` y `%`).\n",
        "  4\\. Resolver el perímetro y área de un círculo pidiendo el radio (usar `math.pi`).\n",
        "\n",
        "* **Reto**\n",
        "  5\\. Implementar una calculadora que funcione en bucle hasta que el usuario escriba \"salir\"."
      ]
    },
    {
      "cell_type": "code",
      "execution_count": null,
      "id": "IrJEEM156PO7",
      "metadata": {
        "id": "IrJEEM156PO7"
      },
      "outputs": [
        {
          "name": "stdout",
          "output_type": "stream",
          "text": [
            "addition: 2\n",
            "substraction: 0\n",
            "mulitiplication: 1\n",
            "division: 1.0\n",
            "odd\n",
            "twenties: 0\n",
            "tens: 0\n",
            "fives: 0\n",
            "amount missing: 1\n",
            "perimter: 31.41592653589793\n"
          ]
        }
      ],
      "source": [
        "import math\n",
        "\n",
        "\n",
        "# Ejercicio 1\n",
        "number1 = input(\"Enter a number:\")\n",
        "while not number1.isdigit():\n",
        "    number1 = input(\"Enter a number:\")\n",
        "number1 = int(number1)\n",
        "number2 = input(\"Enter a number:\")\n",
        "while not number2.isdigit():\n",
        "    number2 = input(\"Enter a number:\")\n",
        "number2 = int(number2)\n",
        "\n",
        "print(\"addition: \" + str(number1 + number2))\n",
        "print(\"substraction: \" + str(number1 - number2))\n",
        "print(\"mulitiplication: \" + str(number1 * number2))\n",
        "print(\"division: \" + str(number1 / number2))\n",
        "\n",
        "# Ejercicio 2\n",
        "\n",
        "even_odd = int(input(\"Enter your number: \"))\n",
        "\n",
        "print(\"even\" if even_odd % 2 == 0 else \"odd\")\n",
        "\n",
        "\n",
        "\n",
        "# Ejercicio 3\n",
        "\n",
        "amount = int(input(\"Amount money\"))\n",
        "\n",
        "twenty = amount // 20\n",
        "\n",
        "amount = amount % 20\n",
        "\n",
        "ten = amount // 10\n",
        "\n",
        "amount = amount % 10\n",
        "\n",
        "five = amount // 5\n",
        "\n",
        "amount = amount % 5\n",
        "\n",
        "\n",
        "print(\"twenties: \" + str(twenty))\n",
        "print(\"tens: \" + str(ten))\n",
        "print(\"fives: \" + str(five))\n",
        "print(\"amount missing: \" + str(amount))\n",
        "\n",
        "# Ejercicio 4\n",
        "\n",
        "radius = int(input(\"Enter the radius of the circle: \"))\n",
        "\n",
        "print(\"perimter: \" + str(2 * radius * math.pi))\n",
        "\n",
        "# Ejercicio 5\n",
        "\n",
        "\n",
        "print(\"CALCULATOR. WRITE 'exit' TO EXIT\")\n",
        "\n",
        "while True:\n",
        "    number1 = input(\"First number >>> \")\n",
        "    if number1 == \"exit\":\n",
        "        break\n",
        "    if not number1.isdigit():\n",
        "        continue\n",
        "    number1 = float(number1)\n",
        "    number2 = input(\"First number >>> \")\n",
        "    if number2 == \"exit\":\n",
        "        break\n",
        "    if not number2.isdigit():\n",
        "        continue\n",
        "    number2 = float(number2)\n",
        "    \n",
        "    operation = input(\"Enter your operation [+ / - *] >>> \")\n",
        "\n",
        "    if operation == \"exit\":\n",
        "        break\n",
        "    elif operation == \"+\":\n",
        "        print(str(number1 + number2))\n",
        "    elif operation == \"-\":\n",
        "        print(str(number1 - number2))\n",
        "    elif operation == \"*\":\n",
        "        print(str(number1 * number2))\n",
        "    elif operation == \"/\":\n",
        "        print(str(number1 - number2))\n",
        "    else:\n",
        "        print(\"Not valid operator\")\n",
        "        \n",
        "\n",
        "\n",
        "\n",
        "\n"
      ]
    },
    {
      "cell_type": "markdown",
      "id": "9c603859",
      "metadata": {
        "id": "9c603859"
      },
      "source": [
        "\n",
        "## 2. Potencias y raíces\n",
        "\n",
        "En matemáticas, la potenciación y la radicación son operaciones inversas y son la base de muchas de las funciones y algoritmos en IA.\n",
        "\n",
        "*   **Potencia:** $ a^b $ significa multiplicar $ a $ por sí mismo $ b $ veces.\n",
        "    *   **Ejemplo:** $ 2^3 = 2 \\cdot 2 \\cdot 2 = 8 $.\n",
        "*   **Raíz cuadrada:** $ \\sqrt{a} $ es el número que al multiplicarse por sí mismo da $ a $.\n",
        "    *   **Ejemplo:** $ \\sqrt{9} = 3 $.\n",
        "\n",
        "Tenemos dos formas principales de realizar estas operaciones en Python:\n",
        "\n",
        "#### 🔹 **Con operadores básicos de Python**\n",
        "\n",
        "Python ofrece operadores directos para las operaciones matemáticas más comunes:\n",
        "*   `**` para potencias. Por ejemplo, `2 ** 3` calcula 2 elevado a la potencia de 3, dando como resultado 8.\n",
        "*   `**0.5` para la raíz cuadrada. Esto funciona porque, matemáticamente, elevar un número a la potencia de ½ es equivalente a calcular su raíz cuadrada (por ejemplo, `9 ** 0.5` es lo mismo que √9, dando 3.0).\n",
        "\n",
        "\n",
        "***\n",
        "\n",
        "\n",
        "\n",
        "\n",
        "\n"
      ]
    },
    {
      "cell_type": "code",
      "execution_count": 17,
      "id": "6laru_RiCUhJ",
      "metadata": {
        "colab": {
          "base_uri": "https://localhost:8080/"
        },
        "id": "6laru_RiCUhJ",
        "outputId": "493fc78b-c29d-46d9-b8a9-96f857622123"
      },
      "outputs": [
        {
          "name": "stdout",
          "output_type": "stream",
          "text": [
            "2 ** 3 = 8\n",
            "Raíz cuadrada de 9 = 3.0\n"
          ]
        }
      ],
      "source": [
        "# Potencia\n",
        "base = 2\n",
        "exponente = 3\n",
        "resultado_potencia = base ** exponente\n",
        "print(f\"{base} ** {exponente} = {resultado_potencia}\")\n",
        "\n",
        "# Raíz cuadrada (equivalente a exponente 0.5)\n",
        "numero = 9\n",
        "resultado_raiz = numero ** 0.5\n",
        "print(f\"Raíz cuadrada de {numero} = {resultado_raiz}\")\n"
      ]
    },
    {
      "cell_type": "markdown",
      "id": "3d2f3fba",
      "metadata": {
        "id": "3d2f3fba"
      },
      "source": [
        "\n",
        "#### 🔹 **Con el módulo `math` de Python**\n",
        "\n",
        "Python incluye una librería estándar llamada `math` que proporciona funciones matemáticas más avanzadas y precisas. Para usarla, primero hay que importarla: `import math`.\n",
        "\n",
        "*   `math.pow(base, exponente)`: Calcula `base` elevado a `exponente`.\n",
        "    *   **Ejemplo:** `print(math.pow(2, 3))` resultará en `8.0` (2 elevado a 3).\n",
        "*   `math.sqrt(numero)`: Calcula la raíz cuadrada de `numero`.\n",
        "    *   **Ejemplo:** `print(math.sqrt(9))` resultará en `3.0` (la raíz cuadrada de 9) [User Content].\n",
        "*   `math.pi`: Es una constante que representa el valor de π (aproximadamente 3.14159) [User Content]."
      ]
    },
    {
      "cell_type": "code",
      "execution_count": 18,
      "id": "f915425c",
      "metadata": {
        "id": "f915425c",
        "outputId": "0e22d396-3275-4f47-baef-05133a366ff1"
      },
      "outputs": [
        {
          "name": "stdout",
          "output_type": "stream",
          "text": [
            "8.0\n",
            "3.0\n",
            "3.141592653589793\n"
          ]
        }
      ],
      "source": [
        "import math\n",
        "\n",
        "print(math.pow(2, 3))    # 8.0 → 2^3\n",
        "print(math.sqrt(9))      # 3.0 → √9\n",
        "print(math.pi)           # 3.14159… → constante π"
      ]
    },
    {
      "cell_type": "markdown",
      "id": "pzTcdTAHCU6P",
      "metadata": {
        "id": "pzTcdTAHCU6P"
      },
      "source": [
        "**Relación con Machine Learning:**\n",
        "\n",
        "Estas operaciones aparecen constantemente en las \"entrañas\" de los modelos de IA:\n",
        "\n",
        "*   **Potencias:**\n",
        "    *   **Cálculo del Error Cuadrático Medio (MSE):** Es una de las \"funciones de pérdida\" (o de coste) más usadas en la regresión lineal. Se calcula como $$(y - \\hat{y})^2$$. Aquí, $y$ es el valor real y $\\hat{y}$ (se lee \"y gorro\") es el valor predicho por el modelo. Al elevar la diferencia al cuadrado, se penalizan más los errores grandes, obligando al modelo a ser muy preciso. La función de pérdida mide \"cuán mal\" lo está haciendo el modelo, y el objetivo es minimizarla.\n",
        "    *   **Normas y regularización (L1 y L2):** Las potencias son clave en la definición de las **normas de vectores**, como la norma L1 o la norma L2 (o distancia euclídea). Estas normas se usan para **controlar la complejidad de los modelos** y evitar el \"sobreajuste\" (overfitting) a los datos de entrenamiento. Por ejemplo, en la regularización L2, se añade a la función de pérdida un término que incluye la suma de los cuadrados de los pesos del modelo ($ \\sum w_i^2 $), lo que penaliza los pesos grandes y mantiene el modelo más simple. En Python, para calcular la norma L2, usarías `np.linalg.norm(vector, ord=2)`.\n",
        "    *   **Funciones de activación:** Algunas funciones matemáticas usadas en las redes neuronales pueden implicar potencias, aunque las más comunes como ReLU o Sigmoide no las usen directamente en su definición básica, se basan en operaciones exponenciales o lineales.\n",
        "\n",
        "*   **Raíz cuadrada:**\n",
        "    *   **Desviación Típica (Standard Deviation):** Es una medida de la dispersión de los datos alrededor de la media. En el Machine Learning, la desviación típica se utiliza, por ejemplo, en la **estandarización de datos**, donde los valores se dividen por esta medida para normalizarlos. En Python, se calcula con `np.std()` para NumPy arrays.\n",
        "    *   **Distancia Euclídea:** Es la distancia \"recta\" entre dos puntos en un espacio multidimensional. Se calcula usando el Teorema de Pitágoras generalizado, y la raíz cuadrada es una parte fundamental de su fórmula. Esta distancia es vital para algoritmos que agrupan datos por similitud (clustering) o que necesitan medir la \"cercanía\" entre dos puntos de datos o entre un punto y una predicción. Por ejemplo, la distancia euclídea al cuadrado es una forma de medir el error. En Python, `np.sqrt()` de NumPy es la función para calcular raíces cuadradas."
      ]
    },
    {
      "cell_type": "markdown",
      "id": "pg8pIx2A6d_0",
      "metadata": {
        "id": "pg8pIx2A6d_0"
      },
      "source": [
        "## **ACTIVIDAD**:"
      ]
    },
    {
      "cell_type": "code",
      "execution_count": 6,
      "id": "tkuPYvYT6eIb",
      "metadata": {
        "id": "tkuPYvYT6eIb"
      },
      "outputs": [
        {
          "name": "stdout",
          "output_type": "stream",
          "text": [
            "2.039607805437114\n",
            "numpy: 11.858167171478271\n",
            "math: 1.5065605640411377\n"
          ]
        }
      ],
      "source": [
        "import math\n",
        "datos = [5, 7, 3, 7, 9]\n",
        "\n",
        "media = sum(datos) / len(datos)\n",
        "\n",
        "varianza = sum((x - media) ** 2 for x in datos) / len(datos )\n",
        "\n",
        "desviacion_tipica = math.sqrt(varianza)\n",
        "\n",
        "print(desviacion_tipica)\n",
        "\n",
        "import numpy as np\n",
        "\n",
        "import time\n",
        "\n",
        "base = 2\n",
        "exponente = 30\n",
        "numero = 16\n",
        "\n",
        "num = 10000000\n",
        "start = time.time()\n",
        "\n",
        "for i in range(num):\n",
        "    np.pow(base, exponente)\n",
        "\n",
        "end = time.time()\n",
        "\n",
        "total_numpy = end - start\n",
        "\n",
        "start = time.time()\n",
        "\n",
        "for i in range(num):\n",
        "    math.pow(base, exponente)\n",
        "\n",
        "end = time.time()\n",
        "\n",
        "total = end - start\n",
        "\n",
        "print(\"numpy: \" + str(total_numpy))\n",
        "print(\"math: \" + str(total))\n"
      ]
    },
    {
      "cell_type": "markdown",
      "id": "825a7a52",
      "metadata": {
        "id": "825a7a52"
      },
      "source": [
        "\n",
        "## 3. Funciones matemáticas\n",
        "\n",
        "En matemáticas, una **función** es una regla que a cada valor de entrada (o `x`) le asigna un único valor de salida (`f(x)`) . Piensa en ella como una \"máquina\" que, cuando le das algo, siempre te devuelve un resultado específico. Por ejemplo:\n",
        "\n",
        "$ f(x) = x^2 $\n",
        "Si $ x = 3 $, entonces\n",
        "$ f(3) = 3^2 = 9 $\n",
        "\n",
        "Las funciones son tan importantes que forman la base de cómo las máquinas procesan, aprenden y comprenden los datos. Son la \"columna vertebral\" que permite a las máquinas aprender, razonar y tomar decisiones.\n",
        "\n",
        "***\n",
        "\n",
        "### **Funciones en Python: Dando vida a las matemáticas**\n",
        "\n",
        "En Python, podemos **definir funciones** utilizando la palabra clave `def`. Esto nos permite crear bloques de código que podemos reutilizar para calcular valores o realizar tareas específicas. La estructura básica es:\n",
        "\n",
        "```python\n",
        "def nombre_funcion(parametro):\n",
        "    # aquí van las instrucciones\n",
        "    return resultado\n",
        "```\n",
        "\n",
        "Por ejemplo, para la función $ f(x) = x^2 $, escribimos:"
      ]
    },
    {
      "cell_type": "code",
      "execution_count": 19,
      "id": "f58b19b3",
      "metadata": {
        "id": "f58b19b3"
      },
      "outputs": [
        {
          "name": "stdout",
          "output_type": "stream",
          "text": [
            "9\n"
          ]
        }
      ],
      "source": [
        "def f(x):\n",
        "    return x ** 2\n",
        "\n",
        "# Usar la función\n",
        "valor = f(3)\n",
        "print(valor)   # Salida: 9"
      ]
    },
    {
      "cell_type": "markdown",
      "id": "CoKIM-O9Dkvg",
      "metadata": {
        "id": "CoKIM-O9Dkvg"
      },
      "source": [
        "Python es un lenguaje muy flexible. Sus funciones son \"objetos de primera clase\", lo que significa que puedes pasarlas como argumentos a otras funciones o devolverlas como resultados, algo muy útil para operaciones más complejas. Además, para funciones que necesitan recordar parámetros (como las de los modelos de IA), Python permite definirlas como \"objetos invocables\" (`callable objects`) usando clases y el método `__call__`, lo que facilita organizar y gestionar esos parámetros\n",
        "\n"
      ]
    },
    {
      "cell_type": "markdown",
      "id": "c02390ba",
      "metadata": {
        "id": "c02390ba"
      },
      "source": [
        "### ¿Por qué son importantes las funciones en Machine Learning?\n",
        "\n",
        "Las funciones matemáticas son el **núcleo de la Inteligencia Artificial**. Aquí te explicamos por qué:\n",
        "\n",
        "1.  **Son los modelos de IA en sí mismos:**\n",
        "    *   Los modelos de Machine Learning (ML) se basan fundamentalmente en **funciones matemáticas** . Toman tus datos como entrada y devuelven predicciones o resultados .\n",
        "    *   Por ejemplo, una regresión lineal es una función `f(x) = Ax`, y una regresión logística utiliza una función sigmoide `σ(Ax)`.\n",
        "    *   Las **redes neuronales**, que son el motor de gran parte de la IA actual, son esencialmente **composiciones de muchas funciones más pequeñas** (llamadas capas). Cada capa aplica una transformación matemática a los datos de entrada, a menudo una transformación lineal seguida de una función de activación no lineal como la sigmoide o ReLU.\n",
        "\n",
        "2.  **Organización y reutilización del código:**\n",
        "    *   Definir funciones en Python ayuda a **organizar el código** de los algoritmos de ML y a **repetir cálculos** con diferentes datos de manera eficiente . Esto es crucial para manejar la complejidad de los sistemas de IA.\n",
        "\n",
        "3.  **Medición y minimización de errores:**\n",
        "    *   Para que un modelo de IA \"aprenda\", necesita saber cuánto se equivoca. Aquí entran las **funciones de pérdida** (o de coste/error).\n",
        "    *   Calcular el **error cuadrático medio (MSE)**, por ejemplo, es una forma de medir \"qué tan bien funciona un modelo\" . La fórmula `(y - ŷ)²` eleva al cuadrado la diferencia entre el valor real (`y`) y la predicción del modelo (`ŷ`), penalizando más los errores grandes .\n",
        "    *   El objetivo del Machine Learning es **minimizar esta función de pérdida** para que el modelo sea lo más preciso posible. Este proceso de minimización se realiza mediante el **Cálculo** (específicamente, las derivadas y el algoritmo de descenso de gradiente).\n",
        "\n",
        "4.  **Desarrollo y optimización de algoritmos:**\n",
        "    *   Comprender las matemáticas de las funciones es fundamental para **entender cómo funcionan los modelos de IA a un nivel profundo** y para poder **ajustar y optimizar los algoritmos** para un mejor rendimiento.\n",
        "    *   Algoritmos como la **retropropagación** (backpropagation), usados para entrenar redes neuronales profundas, se basan en la **regla de la cadena** (una regla matemática para derivar funciones compuestas) para calcular eficientemente cómo los cambios en los parámetros afectan al error global de la red.\n",
        "\n",
        "En definitiva, las funciones matemáticas son el **lenguaje central** que permite a la Inteligencia Artificial aprender de los datos, hacer predicciones y tomar decisiones, y Python nos proporciona las herramientas para implementar y experimentar con estas poderosas construcciones matemáticas.\n",
        "\n",
        "***\n",
        "\n"
      ]
    },
    {
      "cell_type": "markdown",
      "id": "5f3c6634",
      "metadata": {
        "id": "5f3c6634"
      },
      "source": [
        "## **ACTIVIDAD**: Funciones en Python\n",
        "\n",
        "**Objetivo**: crear funciones y entender su reutilización.\n",
        "\n",
        "* **Nivel básico**\n",
        "\n",
        "  1. Definir una función `doble(x)` que devuelva el doble de un número.\n",
        "  2. Definir una función `cuadrado(x)` que calcule x².\n",
        "\n",
        "* **Nivel intermedio**\n",
        "  3\\. Definir `f(x) = 2x² - 3x + 1` y calcular sus valores para `x = 0, 1, 2, 3`.\n",
        "  4\\. Crear una función `es_par(x)` que devuelva `True` si el número es par.\n",
        "\n",
        "* **Reto**\n",
        "  5\\. Crear una función `media(lista)` que calcule la media de una lista sin usar librerías externas."
      ]
    },
    {
      "cell_type": "code",
      "execution_count": 15,
      "id": "cbfb7819",
      "metadata": {
        "id": "cbfb7819",
        "outputId": "4251c9a7-f4d0-4fc9-c163-52544f96bca0"
      },
      "outputs": [
        {
          "name": "stdout",
          "output_type": "stream",
          "text": [
            "6\n",
            "9\n",
            "f(0) = 1\n",
            "f(1) = 0\n",
            "f(2) = 3\n",
            "f(3) = 10\n",
            "f(4) = 21\n",
            "0 es par: True\n",
            "1 es par: False\n",
            "2 es par: True\n",
            "3 es par: False\n",
            "4 es par: True\n",
            "3.5\n"
          ]
        }
      ],
      "source": [
        "\n",
        "from typing import List\n",
        "# función doble\n",
        "def doble(x: int) -> int:\n",
        "    return x * 2\n",
        "def cuadrado(x: int) -> int:\n",
        "    return x ** 2\n",
        "\n",
        "print(doble(3))\n",
        "print(cuadrado(3))\n",
        "\n",
        "def formula(x: int) -> int:\n",
        "    return 2 * (x ** 2) - 3 * x + 1\n",
        "\n",
        "for i in range(5):\n",
        "    print(\"f(\" + str(i) + \") = \" + str(formula(i)))\n",
        "\n",
        "def es_par(x: int) -> bool:\n",
        "    return x & 1 != 1\n",
        "\n",
        "for i in range(5):\n",
        "    print(str(i) + \" es par: \" + str(es_par(i)))\n",
        "\n",
        "def media(list: List[int]) -> float:\n",
        "    return sum(list) / len(list)\n",
        "\n",
        "print(media([1, 2, 3, 4, 5, 6]))"
      ]
    },
    {
      "cell_type": "code",
      "execution_count": null,
      "id": "43acce37",
      "metadata": {},
      "outputs": [],
      "source": []
    },
    {
      "cell_type": "markdown",
      "id": "3ea83320",
      "metadata": {
        "id": "3ea83320"
      },
      "source": [
        "## 4. Funciones matemáticas comunes (`math`)\n",
        "\n",
        "Python, como lenguaje de programación versátil, incluye un módulo estándar llamado `math`  que ofrece una colección de funciones matemáticas más complejas y precisas que los operadores básicos, siendo especialmente útiles en el ámbito del Machine Learning. Para utilizarlas, siempre debemos importarlo al inicio de nuestro código:\n",
        "\n",
        "Para usarlo, primero hay que importar el módulo:\n",
        "\n",
        "```python\n",
        "import math\n",
        "```\n",
        "\n",
        "**Es importante recordar:** Las funciones del módulo `math` están diseñadas para operar con **valores escalares** (números individuales, como un `int` o un `float`) . Cuando trabajamos con grandes conjuntos de datos representados como **vectores o matrices** (NumPy arrays), la librería **NumPy** ofrece funciones equivalentes (como `np.sin`, `np.log`, `np.exp`) que son mucho más eficientes al estar optimizadas para operar sobre arrays completos.\n",
        "\n",
        "***\n",
        "\n",
        "### **Funciones básicas que ofrece `math` y su relevancia en ML**\n",
        "\n",
        "Aquí presentamos algunas de las funciones más comunes y su conexión con la IA:\n",
        "\n",
        "*   **`math.sin(x)` y `math.cos(x)`**: Calculan el **seno** y el **coseno** de un ángulo `x` (expresado en radianes) .\n",
        "    *   **Relación con Machine Learning**: Aunque quizás menos frecuentes en el ML clásico , las **funciones trigonométricas** son cruciales en modelos que trabajan con **datos basados en ángulos, patrones cíclicos o procesamiento de señales** . Por ejemplo, en el **procesamiento de audio o imágenes**, las **Transformadas de Fourier** descomponen señales complejas en sumas de ondas seno y coseno, revelando información sobre sus componentes de frecuencia.\n",
        "\n",
        "*   **`math.log(x, base)`**: Calcula el **logaritmo** de `x` en la base que le indiques (por ejemplo, base 10). Si no se especifica la base, por defecto suele ser el logaritmo natural (base `e`).\n",
        "    *   **Relación con Machine Learning**: Los **logaritmos son extremadamente importantes en ML**. Son esenciales para:\n",
        "        *   **Transformar productos en sumas**: En la **estimación por máxima verosimilitud (MLE)**, la función de verosimilitud a menudo es un producto de muchas probabilidades. Tomar el logaritmo (`log-likelihood`) convierte este producto en una suma, lo que facilita enormemente su optimización mediante cálculo diferencial.\n",
        "        *   **Funciones de pérdida**: Aparecen en la **pérdida de logaritmos (`log loss`)** o **entropía cruzada (`cross-entropy`)**, que se usan ampliamente en tareas de clasificación para medir la diferencia entre las probabilidades predichas por el modelo y las etiquetas verdaderas.\n",
        "        *   **Transformación de datos**: Pueden usarse para **normalizar o transformar características** en los datos de entrada, por ejemplo, para reducir la asimetría (`skewness`) en distribuciones de datos.\n",
        "\n",
        "*   **`math.exp(x)`**: Calcula $e^x$, donde $e$ es la base de los logaritmos naturales, una constante matemática fundamental con un valor aproximado de 2.718 .\n",
        "    *   **Relación con Machine Learning**: Las **funciones exponenciales son vitales en ML**. Se usan en:\n",
        "        *   **Funciones de activación**: Son el componente clave de funciones como la **función sigmoide** (`1 / (1 + e^-x)`), utilizada para clasificaciones binarias, y la **función softmax**, que transforma un vector de números en una distribución de probabilidades para clasificaciones multiclase. Ambas funciones introducen no-linealidad en las redes neuronales, permitiéndoles aprender patrones complejos.\n",
        "        *   **Distribuciones de probabilidad**: Son fundamentales en la definición de muchas distribuciones de probabilidad, como la distribución normal (gaussiana) y la distribución exponencial.\n"
      ]
    },
    {
      "cell_type": "code",
      "execution_count": 21,
      "id": "f40fb081",
      "metadata": {
        "id": "f40fb081",
        "outputId": "934b8573-0bd3-475c-bb84-e956044255e2"
      },
      "outputs": [
        {
          "name": "stdout",
          "output_type": "stream",
          "text": [
            "1.0\n",
            "1.0\n",
            "2.0\n",
            "2.718281828459045\n"
          ]
        }
      ],
      "source": [
        "import math\n",
        "\n",
        "print(math.sin(math.pi / 2))  # 1.0 → seno de 90 grados en radianes\n",
        "print(math.cos(0))            # 1.0 → coseno de 0 grados\n",
        "print(math.log(100, 10))      # 2.0 → logaritmo de 100 base 10\n",
        "print(math.exp(1))            # 2.718281828459045 → e^1"
      ]
    },
    {
      "cell_type": "markdown",
      "id": "8a862842",
      "metadata": {
        "id": "8a862842"
      },
      "source": [
        "\n",
        "\n",
        "\n",
        "### **Otras funciones útiles del módulo `math`**\n",
        "\n",
        "El módulo `math` también proporciona otras utilidades prácticas:\n",
        "\n",
        "*   **`math.sqrt(x)`**: Calcula la **raíz cuadrada** de `x` .\n",
        "    *   **Relación con Machine Learning**: Es esencial en el cálculo de la **desviación típica** (medida de dispersión de datos) y la **distancia euclídea** (distancia entre puntos en un espacio), ambas cruciales para la normalización de datos, agrupación y funciones de pérdida como el Error Cuadrático Medio (MSE) .\n",
        "*   **`math.pow(x, y)`**: Calcula la **potencia** $x^y$ , funcionando de manera similar al operador `**`.\n",
        "    *   **Relación con Machine Learning**: Las potencias son necesarias en fórmulas como el **cálculo del Error Cuadrático Medio (MSE)**  y en técnicas de **regularización** (como la regularización L2), que ayudan a controlar la complejidad de los modelos.\n",
        "*   **`math.floor(x)`**: Redondea `x` hacia abajo al entero más cercano .\n",
        "*   **`math.ceil(x)`**: Redondea `x` hacia arriba al entero más cercano.\n",
        "    *   **Relación con Machine Learning**: Estas funciones de redondeo son menos frecuentes en los cálculos centrales de ML, pero pueden ser útiles en tareas auxiliares de programación o en la discretización de variables continuas.\n",
        "*   **`math.pi` y `math.e`**: Son constantes matemáticas importantes .\n",
        "    *   **`math.pi`**: La constante $\\pi \\approx 3.14159\\dots$. Útil en cálculos geométricos o trigonométricos.\n",
        "    *   **`math.e`**: La constante $e \\approx 2.71828\\dots$, la base de los logaritmos naturales, omnipresente en funciones exponenciales y distribuciones de probabilidad en ML.\n",
        "\n",
        "En síntesis, el módulo `math` es una caja de herramientas fundamental para cualquier estudiante de Machine Learning. Aunque para grandes volúmenes de datos se prefiere NumPy por su eficiencia con arrays, comprender las funciones del módulo `math` nos permite entender los principios matemáticos subyacentes que impulsan la Inteligencia Artificial."
      ]
    },
    {
      "cell_type": "code",
      "execution_count": 22,
      "id": "1e1f78df",
      "metadata": {
        "id": "1e1f78df",
        "outputId": "3e9a38db-132f-4839-fe9c-48ba2e26569e"
      },
      "outputs": [
        {
          "name": "stdout",
          "output_type": "stream",
          "text": [
            "1.0\n",
            "1.0\n",
            "2.0\n",
            "2.718281828459045\n"
          ]
        }
      ],
      "source": [
        "import math\n",
        "\n",
        "print(math.sin(math.pi/2))  # 1.0 (seno)\n",
        "print(math.cos(0))          # 1.0 (coseno)\n",
        "print(math.log(100, 10))    # logaritmo base 10: 2.0\n",
        "print(math.exp(1))          # e^1 = 2.718..."
      ]
    },
    {
      "cell_type": "markdown",
      "id": "M2nxPsME6sr-",
      "metadata": {
        "id": "M2nxPsME6sr-"
      },
      "source": [
        "## **ACTIVIDAD**: Módulo `math`\n",
        "\n",
        "**Objetivo**: practicar con funciones matemáticas comunes.\n",
        "\n",
        "* **Nivel básico**\n",
        "\n",
        "  1. Calcular seno y coseno de 0, π/2 y π.\n",
        "  2. Calcular logaritmo base 10 de 1000.\n",
        "\n",
        "* **Nivel intermedio**\n",
        "  3\\. Implementar la fórmula del interés compuesto:\n",
        "  $A = P (1 + r/n)^{nt}$\n",
        "  usando `math.pow()`.\n",
        "\n",
        "* **Reto**\n",
        "  4\\. Programar la función sigmoide:\n",
        "  $\\sigma(x) = \\frac{1}{1+e^{-x}}$\n",
        "  y evaluarla en `x = -2, -1, 0, 1, 2`."
      ]
    },
    {
      "cell_type": "code",
      "execution_count": 17,
      "id": "I1CA6nCq6sZ7",
      "metadata": {
        "id": "I1CA6nCq6sZ7"
      },
      "outputs": [
        {
          "name": "stdout",
          "output_type": "stream",
          "text": [
            "0.0\n",
            "1.0\n",
            "1.2246467991473532e-16\n",
            "1.0\n",
            "6.123233995736766e-17\n",
            "-1.0\n",
            "2.9999999999999996\n"
          ]
        }
      ],
      "source": [
        "print(math.sin(0))\n",
        "print(math.sin(math.pi / 2))\n",
        "print(math.sin(math.pi))\n",
        "\n",
        "print(math.cos(0))\n",
        "print(math.cos(math.pi / 2))\n",
        "print(math.cos(math.pi))\n",
        "\n",
        "print(math.log(1000, 10))"
      ]
    },
    {
      "cell_type": "markdown",
      "id": "07382919",
      "metadata": {
        "id": "07382919"
      },
      "source": [
        "## 5. Visualización de funciones\n",
        "\n",
        "Cuando trabajamos con funciones, es muy útil poder **verlas gráficamente para entender mejor su comportamiento**. A veces, nuestra intuición matemática puede llevarnos a conclusiones erróneas, pero una buena gráfica puede aclararlo todo . En Python, para crear estos gráficos se usa la biblioteca **Matplotlib**, una herramienta esencial que permite dibujar muchos tipos de representaciones visuales .\n",
        "\n",
        "**¿Por qué es tan importante visualizar funciones en Machine Learning?**\n",
        "\n",
        "La visualización no es solo para que las cosas se vean bonitas; es crucial para:\n",
        "\n",
        "1.  **Comprender la esencia de los modelos de IA**:\n",
        "    *   Los modelos de Machine Learning (ML) se basan en complejas funciones matemáticas. Visualizar estas funciones o sus efectos nos ayuda a **\"ver\" cómo los modelos procesan y transforman los datos** . Por ejemplo, en una red neuronal, cada \"capa\" es una función que transforma los datos.\n",
        "    *   Nos permite entender cómo las **funciones de activación** (como ReLU o Sigmoide) introducen no-linealidad, haciendo posible que las redes neuronales aprendan patrones complejos. Las representaciones gráficas de estas funciones son comunes en los materiales de aprendizaje.\n",
        "    *   Incluso los conceptos abstractos como la **Transformada de Fourier**, que descompone señales complejas en ondas seno y coseno, se pueden visualizar para entender sus componentes de frecuencia, lo cual es útil en el procesamiento de audio o imágenes.\n",
        "\n",
        "2.  **Entender la optimización y el aprendizaje**:\n",
        "    *   El \"entrenamiento\" de un modelo de IA es, en esencia, un proceso de **optimización**, donde el algoritmo ajusta sus parámetros para minimizar una **función de pérdida** (o de error) .\n",
        "    *   Visualizar el \"paisaje\" de una función de pérdida (por ejemplo, con curvas de nivel para funciones de dos variables) nos ayuda a **entender dónde se encuentran los mínimos y máximos**, y cómo el algoritmo (como el descenso de gradiente) \"navega\" por este paisaje para encontrar la mejor solución.\n",
        "    *   Podemos graficar el **proceso de descenso de gradiente** paso a paso, viendo cómo los parámetros del modelo se ajustan y se acercan a un mínimo. Esto también ayuda a identificar problemas como la divergencia o el estancamiento en mínimos locales.\n",
        "\n",
        "3.  **Explorar y transformar los datos**:\n",
        "    *   Los datos en ML a menudo son de **alta dimensión**, lo que los hace difíciles de entender directamente. Herramientas de visualización nos permiten representar estos datos en 2D o 3D para **descubrir patrones, grupos (clusters) y relaciones** que de otro modo serían invisibles.\n",
        "    *   Técnicas como **T-SNE y UMAP** son ejemplos avanzados de cómo Matplotlib se usa para visualizar la estructura de datos complejos, como el conjunto de datos MNIST de dígitos, después de una reducción de dimensionalidad.\n",
        "    *   También es útil para **visualizar cómo las transformaciones matemáticas afectan los datos**, por ejemplo, cómo la normalización cambia la distribución de las características en un conjunto de datos como el Iris.\n",
        "\n",
        "4.  **Verificar y depurar algoritmos**:\n",
        "    *   Al implementar algoritmos complejos, como la proyección de vectores o la aproximación de derivadas, graficar los resultados intermedios o finales puede ayudar a **verificar que el código funciona como se espera**. Por ejemplo, se puede visualizar la aproximación de una derivada con diferencias finitas o la aproximación de una integral con la regla trapezoidal.\n",
        "\n",
        "**Matplotlib en acción:**\n",
        "\n",
        "Matplotlib se utiliza ampliamente en los recursos que hemos revisado para ilustrar una gran variedad de conceptos:\n",
        "*   **Gráficos de funciones**: Para mostrar cómo se ven funciones como $e^x$, $x^2$, o las secuencias como $1/n$ y $sin(n)$.\n",
        "*   **Distribuciones de datos**: Para visualizar la forma de distribuciones de probabilidad como la Bernoulli, Binomial, Geométrica o Normal, así como las características de un dataset.\n",
        "*   **Transformaciones de datos**: Como la compresión de imágenes con PCA o SVD, o la visualización de datos de alta dimensión con T-SNE y UMAP.\n",
        "*   **Conceptos de cálculo**: La interpretación geométrica de las derivadas como la pendiente de la recta tangente, o cómo el gradiente apunta en la dirección de mayor crecimiento de una función.\n",
        "\n",
        "En definitiva, la visualización de funciones con Matplotlib es una **habilidad indispensable** para cualquier persona que estudie o trabaje en Inteligencia Artificial, ya que nos permite ir más allá de las fórmulas y comprender intuitivamente el comportamiento de los datos y los modelos.\n",
        "\n"
      ]
    },
    {
      "cell_type": "code",
      "execution_count": 18,
      "id": "49533b47",
      "metadata": {
        "id": "49533b47",
        "outputId": "232d7b8a-550e-465f-88a5-edf9e247c76d"
      },
      "outputs": [
        {
          "data": {
            "image/png": "[encoded data removed]",
            "text/plain": [
              "<Figure size 640x480 with 1 Axes>"
            ]
          },
          "metadata": {},
          "output_type": "display_data"
        }
      ],
      "source": [
        "import numpy as np\n",
        "import matplotlib.pyplot as plt\n",
        "\n",
        "# Creamos 100 valores igualmente espaciados entre -10 y 10\n",
        "x = np.linspace(-10, 10, 100)\n",
        "\n",
        "# Calculamos y = f(x) = x² para cada valor de x\n",
        "y = x ** 2\n",
        "\n",
        "# Dibujamos la curva\n",
        "plt.plot(x, y, label=\"f(x) = x^2\")\n",
        "\n",
        "# Etiquetas y título del gráfico\n",
        "plt.xlabel(\"x\")\n",
        "plt.ylabel(\"f(x)\")\n",
        "plt.title(\"Gráfico de una función cuadrática\")\n",
        "\n",
        "# Mostrar la leyenda y una cuadrícula para mejor lectura\n",
        "plt.legend()\n",
        "plt.grid()\n",
        "\n",
        "# Mostrar el gráfico\n",
        "plt.show()\n"
      ]
    },
    {
      "cell_type": "markdown",
      "id": "kHiEkNQ762zD",
      "metadata": {
        "id": "kHiEkNQ762zD"
      },
      "source": [
        "## **ACTIVIDAD**: Visualización de funciones\n",
        "\n",
        "**Objetivo**: aprender a usar Matplotlib para interpretar funciones y datos.\n",
        "\n",
        "* **Nivel básico**\n",
        "\n",
        "  1. Dibujar la función cuadrática `y = x²` entre -10 y 10.\n",
        "  2. Representar la función lineal `y = 2x + 1`.\n",
        "\n",
        "* **Nivel intermedio**\n",
        "  3\\. Graficar `y = sin(x)` y `y = cos(x)` en el mismo eje.\n",
        "  4\\. Representar `y = e^x` y `y = log(x)` para `x > 0`.\n",
        "\n",
        "* **Reto**\n",
        "  5\\. Simular el **descenso de gradiente** en una parábola `y = x²`: representar cómo un punto baja hacia el mínimo dando pasos pequeños."
      ]
    },
    {
      "cell_type": "code",
      "execution_count": null,
      "id": "Doep6Bhv628M",
      "metadata": {
        "id": "Doep6Bhv628M"
      },
      "outputs": [
        {
          "data": {
            "image/png": "[encoded data removed]",
            "text/plain": [
              "<Figure size 640x480 with 1 Axes>"
            ]
          },
          "metadata": {},
          "output_type": "display_data"
        },
        {
          "data": {
            "image/png": "[encoded data removed]",
            "text/plain": [
              "<Figure size 640x480 with 1 Axes>"
            ]
          },
          "metadata": {},
          "output_type": "display_data"
        },
        {
          "data": {
            "image/png": "[encoded data removed]",
            "text/plain": [
              "<Figure size 640x480 with 1 Axes>"
            ]
          },
          "metadata": {},
          "output_type": "display_data"
        },
        {
          "data": {
            "image/png": "[encoded data removed]",
            "text/plain": [
              "<Figure size 640x480 with 1 Axes>"
            ]
          },
          "metadata": {},
          "output_type": "display_data"
        }
      ],
      "source": [
        "import numpy as np\n",
        "import matplotlib.pyplot as plt\n",
        "\n",
        "x = np.linspace(-10, 10, 100)\n",
        "\n",
        "y = x ** 2\n",
        "\n",
        "plt.plot(x, y, label=\"f(x)=x ** 2\")\n",
        "\n",
        "plt.xlabel(\"x\")\n",
        "plt.ylabel(\"f(x)\")\n",
        "plt.title(\"Ejercicio 1\")\n",
        "\n",
        "plt.legend()\n",
        "plt.axis()\n",
        "\n",
        "plt.show()\n",
        "\n",
        "y1 = 2 * x + 1\n",
        "\n",
        "plt.plot(x, y1, label=\"f(x) = 2 * x + 1\")\n",
        "\n",
        "plt.title(\"Ejercicio 2\")\n",
        "\n",
        "# Get current axis object\n",
        "ax = plt.gca()\n",
        "\n",
        "# Move axes to cross at (0,0)\n",
        "ax.spines['left'].set_position('zero')\n",
        "ax.spines['bottom'].set_position('zero')\n",
        "\n",
        "# Hide the top and right axes\n",
        "ax.spines['top'].set_visible(False)\n",
        "ax.spines['right'].set_visible(False)\n",
        "\n",
        "plt.show()\n",
        "\n",
        "\n",
        "y = np.sin(x)\n",
        "plt.plot(x, y, label=\"f(x) = sin(x)\")\n",
        "y = np.cos(x)\n",
        "plt.plot(x, y, label=\"f(x) = cos(x)\")\n",
        "\n",
        "plt.legend()\n",
        "\n",
        "ax = plt.gca()\n",
        "\n",
        "# Move axes to cross at (0,0)\n",
        "ax.spines['left'].set_position('zero')\n",
        "ax.spines['bottom'].set_position('zero')\n",
        "\n",
        "# Hide the top and right axes\n",
        "ax.spines['top'].set_visible(False)\n",
        "ax.spines['right'].set_visible(False)\n",
        "\n",
        "\n",
        "plt.show()\n",
        "\n",
        "x = np.linspace(0.1, 10, 400)\n",
        "y = np.pow(np.e, x)\n",
        "plt.plot(x, y, label=\"f(x) = e^x\")\n",
        "y = np.log(x)\n",
        "plt.plot(x, y, label=\"f(x) = ln(x)\")\n",
        "\n",
        "plt.ylim(-2, 50)\n",
        "\n",
        "plt.show()\n",
        "\n",
        "\n",
        "\n",
        "\n",
        "x_inicial = randint(10)\n",
        "alpha = 0.3\n",
        "n_iteraciones = 15\n",
        "\n",
        "iteraciones = []\n",
        "y = []\n",
        "\n",
        "gradiente = "
      ]
    },
    {
      "cell_type": "markdown",
      "id": "ff62370e",
      "metadata": {
        "id": "ff62370e"
      },
      "source": [
        "## 6. Actividades de refuerzo\n",
        "\n",
        "### 📝 Actividad 1 – Calculadora básica\n",
        "\n",
        "Crea un programa en Python que:\n",
        "\n",
        "1. Pida al usuario dos números (`input()`).\n",
        "2. Muestre por pantalla la suma, resta, multiplicación, división, potencia y raíz cuadrada.\n",
        "\n",
        "---\n",
        "\n",
        "### 📝 Actividad 2 – Función personalizada\n",
        "\n",
        "Define una función `f(x) = 2x^2 - 3x + 1` en Python.\n",
        "\n",
        "* Calcula su valor para `x=0, 1, 2, 3`.\n",
        "* Representa gráficamente la función entre -5 y 5.\n",
        "\n",
        "---\n",
        "\n",
        "### 📝 Actividad 3 – Reto avanzado (opcional)\n",
        "\n",
        "Implementa una función en Python que calcule la **media aritmética** de una lista de números sin usar `numpy` ni `statistics`.\n",
        "\n",
        "---\n",
        "\n",
        "## ✅ Evaluación rápida (formativa)\n",
        "\n",
        "1. ¿Qué diferencia hay entre `//` y `/` en Python?\n",
        "2. ¿Cómo calcularías la raíz cúbica de 125 en Python?\n",
        "3. Escribe en Python la función $f(x)=x^3+2x$.\n",
        "4. ¿Qué hace el operador `%` en Python?\n",
        "5. Representa en un papel o gráfico cómo es la curva de $y = \\log(x)$."
      ]
    }
  ],
  "metadata": {
    "colab": {
      "provenance": []
    },
    "kernelspec": {
      "display_name": "Python 3 (ipykernel)",
      "language": "python",
      "name": "python3"
    },
    "language_info": {
      "codemirror_mode": {
        "name": "ipython",
        "version": 3
      },
      "file_extension": ".py",
      "mimetype": "text/x-python",
      "name": "python",
      "nbconvert_exporter": "python",
      "pygments_lexer": "ipython3",
      "version": "3.13.7"
    }
  },
  "nbformat": 4,
  "nbformat_minor": 5
}
